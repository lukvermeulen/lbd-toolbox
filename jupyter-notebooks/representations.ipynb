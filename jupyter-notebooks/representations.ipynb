{
 "cells": [
  {
   "cell_type": "code",
   "execution_count": 1,
   "metadata": {},
   "outputs": [],
   "source": [
    "# create pyoxigraph store\n",
    "\n",
    "from pyoxigraph import *\n",
    "\n",
    "store = Store()\n",
    "store.clear()"
   ]
  },
  {
   "cell_type": "code",
   "execution_count": 2,
   "metadata": {},
   "outputs": [],
   "source": [
    "ttl_file = open(\"../turtle-files/representation_history.ttl\", \"rb\")\n",
    "store.load(ttl_file, \"text/turtle\", base_iri=\"http://example.org/\")\n",
    "# list(store)"
   ]
  },
  {
   "cell_type": "code",
   "execution_count": 3,
   "metadata": {},
   "outputs": [
    {
     "data": {
      "text/plain": [
       "[<QuerySolution s=<NamedNode value=http://example.org/picture_02>>,\n",
       " <QuerySolution s=<NamedNode value=http://example.org/picture_a>>,\n",
       " <QuerySolution s=<NamedNode value=http://example.org/picture_b>>,\n",
       " <QuerySolution s=<NamedNode value=http://example.org/scan_01>>]"
      ]
     },
     "execution_count": 3,
     "metadata": {},
     "output_type": "execute_result"
    }
   ],
   "source": [
    "# show all representations\n",
    "\n",
    "showAllReps = \"\"\"\n",
    "    PREFIX : <http://example.org/>\n",
    "    SELECT ?s WHERE {\n",
    "        ?s a :Representation\n",
    "    }\n",
    "    ORDER BY ASC(?s)\n",
    "\"\"\"\n",
    "list(store.query(showAllReps))"
   ]
  },
  {
   "cell_type": "code",
   "execution_count": 4,
   "metadata": {},
   "outputs": [
    {
     "data": {
      "text/plain": [
       "[<QuerySolution rep=<NamedNode value=http://example.org/picture_02>>,\n",
       " <QuerySolution rep=<NamedNode value=http://example.org/picture_b>>]"
      ]
     },
     "execution_count": 4,
     "metadata": {},
     "output_type": "execute_result"
    }
   ],
   "source": [
    "# show all active picture representations\n",
    "\n",
    "showAllActiveReps = \"\"\"\n",
    "    PREFIX : <http://example.org/>\n",
    "    SELECT ?rep WHERE {\n",
    "        << ?rep a :Representation >>\n",
    "            :representationType :picture .\n",
    "\n",
    "        << << ?element :representedBy ?rep >> :hasStatus \"active\" >> :date ?latestTime .\n",
    "        {\n",
    "            SELECT (MAX(?creationDate) as ?latestTime) WHERE {\n",
    "                << ?element :representedBy ?rep >> \n",
    "                    :hasStatus ?status .\n",
    "\n",
    "                << << ?element :representedBy ?rep >> :hasStatus ?status >> :date ?creationDate .\n",
    "            }\n",
    "        }\n",
    "    }\n",
    "    ORDER BY ASC(?rep)\n",
    "\"\"\"\n",
    "list(store.query(showAllActiveReps))"
   ]
  },
  {
   "cell_type": "code",
   "execution_count": 5,
   "metadata": {},
   "outputs": [
    {
     "data": {
      "text/plain": [
       "[<QuerySolution rep=<NamedNode value=http://example.org/picture_02> status=<Literal value=active datatype=<NamedNode value=http://www.w3.org/2001/XMLSchema#string>>>,\n",
       " <QuerySolution rep=<NamedNode value=http://example.org/picture_a> status=<Literal value=inactive datatype=<NamedNode value=http://www.w3.org/2001/XMLSchema#string>>>,\n",
       " <QuerySolution rep=<NamedNode value=http://example.org/picture_b> status=<Literal value=active datatype=<NamedNode value=http://www.w3.org/2001/XMLSchema#string>>>]"
      ]
     },
     "execution_count": 5,
     "metadata": {},
     "output_type": "execute_result"
    }
   ],
   "source": [
    "# show all picture representations and their latest status\n",
    "\n",
    "allPicsAndStatus = \"\"\"\n",
    "    PREFIX : <http://example.org/>\n",
    "    SELECT ?rep ?status WHERE {\n",
    "        << ?rep a :Representation >>\n",
    "            :representationType :picture .\n",
    "\n",
    "        << << ?element :representedBy ?rep >> :hasStatus ?status >>  :date ?latestTime .\n",
    "        {\n",
    "            SELECT ?el ?rep (MAX(?creationDate) as ?latestTime) WHERE {\n",
    "                << ?element :representedBy ?rep >> \n",
    "                    :hasStatus ?status .\n",
    "\n",
    "                << << ?element :representedBy ?rep >> :hasStatus ?status >> :date ?creationDate .\n",
    "            }\n",
    "            GROUP BY ?el ?rep\n",
    "        }\n",
    "    }\n",
    "    ORDER BY ?rep ?status\n",
    "\"\"\"\n",
    "list(store.query(allPicsAndStatus))"
   ]
  },
  {
   "cell_type": "code",
   "execution_count": 6,
   "metadata": {},
   "outputs": [
    {
     "data": {
      "text/plain": [
       "[<QuerySolution element=<NamedNode value=http://example.org/column_01> status=<Literal value=inactive datatype=<NamedNode value=http://www.w3.org/2001/XMLSchema#string>> date=<Literal value=2021-08-09T15:05:47.277000000015433728Z datatype=<NamedNode value=http://www.w3.org/2001/XMLSchema#date>>>,\n",
       " <QuerySolution element=<NamedNode value=http://example.org/column_01> status=<Literal value=active datatype=<NamedNode value=http://www.w3.org/2001/XMLSchema#string>> date=<Literal value=2021-04-09T15:05:47.277000000015433728Z datatype=<NamedNode value=http://www.w3.org/2001/XMLSchema#date>>>]"
      ]
     },
     "execution_count": 6,
     "metadata": {},
     "output_type": "execute_result"
    }
   ],
   "source": [
    "# show all status changes of representation regarding their represented element\n",
    "\n",
    "query = \"\"\"\n",
    "    PREFIX : <http://example.org/>\n",
    "    SELECT ?element ?status ?date WHERE {\n",
    "        ?element :representedBy :picture_01 .\n",
    "        << ?element :representedBy :picture_01 >> :hasStatus ?status .\n",
    "        << << ?element :representedBy :picture_01 >> :hasStatus ?status >> :date ?date .\n",
    "    }\n",
    "    ORDER BY DESC(?date)\n",
    "\"\"\"\n",
    "list(store.query(query))"
   ]
  },
  {
   "cell_type": "code",
   "execution_count": 7,
   "metadata": {},
   "outputs": [
    {
     "data": {
      "text/plain": [
       "[<QuerySolution rep=<NamedNode value=http://example.org/picture_02>>,\n",
       " <QuerySolution rep=<NamedNode value=http://example.org/scan_01>>]"
      ]
     },
     "execution_count": 7,
     "metadata": {},
     "output_type": "execute_result"
    }
   ],
   "source": [
    "# show all representations of element\n",
    "\n",
    "query = \"\"\"\n",
    "    PREFIX : <http://example.org/>\n",
    "    SELECT ?rep WHERE {\n",
    "        ?rep a :Representation . \n",
    "        :column_01 :representedBy ?rep . \n",
    "    }\n",
    "    ORDER BY ASC(?rep)\n",
    "\"\"\"\n",
    "list(store.query(query))"
   ]
  },
  {
   "cell_type": "code",
   "execution_count": 8,
   "metadata": {},
   "outputs": [
    {
     "data": {
      "text/plain": [
       "[<QuerySolution rep=<NamedNode value=http://example.org/picture_02>>]"
      ]
     },
     "execution_count": 8,
     "metadata": {},
     "output_type": "execute_result"
    }
   ],
   "source": [
    "# show all active picture representations of element\n",
    "\n",
    "allActivePicRepsOfElement = \"\"\"\n",
    "    PREFIX : <http://example.org/>\n",
    "    SELECT ?rep WHERE {\n",
    "        BIND (:column_01 as ?element)\n",
    "\n",
    "        << ?rep a :Representation >>\n",
    "            :representationType :picture .\n",
    "\n",
    "        << << ?element :representedBy ?rep >> :hasStatus \"active\" >>  :date ?latestTime .\n",
    "        {\n",
    "            SELECT ?el ?rep (MAX(?creationDate) as ?latestTime) WHERE {\n",
    "                << ?element :representedBy ?rep >> \n",
    "                    :hasStatus ?status .\n",
    "\n",
    "                << << ?element :representedBy ?rep >> :hasStatus ?status >> :date ?creationDate .\n",
    "            }\n",
    "            GROUP BY ?el ?rep\n",
    "        }\n",
    "    }\n",
    "    ORDER BY ASC(?rep)\n",
    "\"\"\"\n",
    "list(store.query(allActivePicRepsOfElement))"
   ]
  },
  {
   "cell_type": "code",
   "execution_count": 9,
   "metadata": {},
   "outputs": [
    {
     "data": {
      "text/plain": [
       "[<QuerySolution prevRep=<Triple subject=<NamedNode value=http://example.org/picture_01> predicate=<NamedNode value=http://www.w3.org/1999/02/22-rdf-syntax-ns#type> object=<NamedNode value=http://example.org/Representation>>>]"
      ]
     },
     "execution_count": 9,
     "metadata": {},
     "output_type": "execute_result"
    }
   ],
   "source": [
    "# get one previous version of representation\n",
    "\n",
    "query = \"\"\"\n",
    "    PREFIX : <http://example.org/>\n",
    "    SELECT ?prevRep WHERE {\n",
    "        << :picture_02 a :Representation >>\n",
    "            :hasPreviousRepresentation ?prevRep .\n",
    "    }\n",
    "    ORDER BY ASC(?prevRep)\n",
    "\"\"\"\n",
    "list(store.query(query))"
   ]
  },
  {
   "cell_type": "code",
   "execution_count": 10,
   "metadata": {},
   "outputs": [
    {
     "data": {
      "text/plain": [
       "[<QuerySolution result=<NamedNode value=http://example.org/picture_01>>,\n",
       " <QuerySolution result=<NamedNode value=http://example.org/picture_02>>]"
      ]
     },
     "execution_count": 10,
     "metadata": {},
     "output_type": "execute_result"
    }
   ],
   "source": [
    "# get name of all previous representations\n",
    "\n",
    "query = \"\"\"\n",
    "    PREFIX : <http://example.org/>\n",
    "    SELECT (SUBJECT(?prevRep) as ?result) WHERE {\n",
    "        << :picture_02 a :Representation >>\n",
    "            :hasPreviousRepresentation* ?prevRep .\n",
    "        # BIND( SUBJECT(?prevRep) as ?result)\n",
    "    }\n",
    "    ORDER BY ASC(?result)\n",
    "\"\"\"\n",
    "list(store.query(query))"
   ]
  },
  {
   "cell_type": "code",
   "execution_count": 11,
   "metadata": {},
   "outputs": [
    {
     "data": {
      "text/plain": [
       "[<QuerySolution rep=<NamedNode value=http://example.org/picture_03>>]"
      ]
     },
     "execution_count": 11,
     "metadata": {},
     "output_type": "execute_result"
    }
   ],
   "source": [
    "# insert new representation\n",
    "# set element representedBy it\n",
    "# set representedBy link to active\n",
    "# add \"inactive\" status to old representedBy\n",
    "\n",
    "query = \"\"\"\n",
    "    PREFIX : <http://example.org/> \n",
    "    PREFIX xsd: <http://www.w3.org/2001/XMLSchema#> \n",
    "    \n",
    "    INSERT {\n",
    "        ?newRep a :Representation .\n",
    "\n",
    "        << ?newRep a :Representation >>\n",
    "            :representationType :picture ;\n",
    "\n",
    "            :device \"NikonD5600\" ;\n",
    "\n",
    "            :fileUrl \"http://localhost:3000/uploads/pictures/picture_03.jpg\" ;\n",
    "            :pictureUrl \"http://localhost:3000/uploads/pictures/picture_03.jpg\" ;\n",
    "            \n",
    "            :createdBy \"Luk Vermeulen\" ;\n",
    "            :creationDate ?currentDate ;\n",
    "            \n",
    "            :hasPreviousRepresentation << ?oldRep a :Representation >> .\n",
    "\n",
    "        # representedBy link\n",
    "        ?element :representedBy ?newRep .\n",
    "\n",
    "        # new status information\n",
    "        << ?element :representedBy ?newRep >>\n",
    "            :date ?currentDate ;\n",
    "            :hasStatus \"active\" .\n",
    "\n",
    "        << << ?element :representedBy ?newRep >> :hasStatus \"active\" >>\n",
    "            :date ?currentDate . \n",
    "\n",
    "        # add \"inactive\" to old representation\n",
    "        << ?element :representedBy ?oldRep >>\n",
    "            :hasStatus \"inactive\" .\n",
    "\n",
    "        << << ?element :representedBy ?oldRep >> :hasStatus \"inactive\" >>\n",
    "            :date ?currentDate .\n",
    "    }\n",
    "    WHERE {\n",
    "        BIND(:picture_03 AS ?newRep) .\n",
    "        BIND(:picture_02 AS ?oldRep) .\n",
    "        BIND(:column_01 AS ?element) .\n",
    "        BIND( xsd:dateTime(NOW()) AS ?currentDate ) .\n",
    "    }\n",
    "\"\"\"\n",
    "store.update(query)\n",
    "\n",
    "# show all active representations of element column_01\n",
    "list(store.query(allActivePicRepsOfElement))"
   ]
  },
  {
   "cell_type": "code",
   "execution_count": 12,
   "metadata": {},
   "outputs": [
    {
     "data": {
      "text/plain": [
       "[<QuerySolution rep=<NamedNode value=http://example.org/picture_02> status=<Literal value=inactive datatype=<NamedNode value=http://www.w3.org/2001/XMLSchema#string>>>,\n",
       " <QuerySolution rep=<NamedNode value=http://example.org/picture_03> status=<Literal value=active datatype=<NamedNode value=http://www.w3.org/2001/XMLSchema#string>>>,\n",
       " <QuerySolution rep=<NamedNode value=http://example.org/picture_a> status=<Literal value=inactive datatype=<NamedNode value=http://www.w3.org/2001/XMLSchema#string>>>,\n",
       " <QuerySolution rep=<NamedNode value=http://example.org/picture_b> status=<Literal value=active datatype=<NamedNode value=http://www.w3.org/2001/XMLSchema#string>>>]"
      ]
     },
     "execution_count": 12,
     "metadata": {},
     "output_type": "execute_result"
    }
   ],
   "source": [
    "list(store.query(allPicsAndStatus))"
   ]
  },
  {
   "cell_type": "code",
   "execution_count": null,
   "metadata": {},
   "outputs": [],
   "source": []
  }
 ],
 "metadata": {
  "kernelspec": {
   "display_name": "Python 3",
   "language": "python",
   "name": "python3"
  },
  "language_info": {
   "codemirror_mode": {
    "name": "ipython",
    "version": 3
   },
   "file_extension": ".py",
   "mimetype": "text/x-python",
   "name": "python",
   "nbconvert_exporter": "python",
   "pygments_lexer": "ipython3",
   "version": "3.9.6"
  },
  "orig_nbformat": 4,
  "vscode": {
   "interpreter": {
    "hash": "31f2aee4e71d21fbe5cf8b01ff0e069b9275f58929596ceb00d14d90e3e16cd6"
   }
  }
 },
 "nbformat": 4,
 "nbformat_minor": 2
}
