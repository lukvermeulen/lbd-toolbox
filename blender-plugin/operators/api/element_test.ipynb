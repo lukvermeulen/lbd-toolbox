{
 "cells": [
  {
   "cell_type": "code",
   "execution_count": 1,
   "metadata": {},
   "outputs": [
    {
     "data": {
      "text/plain": [
       "<module 'element' from '/Users/luk/Documents/01_Repositories/blender-ld-bim-box/api/element.py'>"
      ]
     },
     "execution_count": 1,
     "metadata": {},
     "output_type": "execute_result"
    }
   ],
   "source": [
    "import element\n",
    "import importlib\n",
    "importlib.reload(element)\n"
   ]
  },
  {
   "cell_type": "code",
   "execution_count": 2,
   "metadata": {},
   "outputs": [
    {
     "data": {
      "text/plain": [
       "'[{\"result\":{}}]'"
      ]
     },
     "execution_count": 2,
     "metadata": {},
     "output_type": "execute_result"
    }
   ],
   "source": [
    "# add an element\n",
    "\n",
    "res = element.add_element(\"name\", \"https://pi.pauwel.be/voc/buildingelement#BuildingElement\")\n",
    "res"
   ]
  },
  {
   "cell_type": "code",
   "execution_count": 3,
   "metadata": {},
   "outputs": [
    {
     "name": "stdout",
     "output_type": "stream",
     "text": [
      "{\"result\":{\"data\":[{\"name\":\"http://example.org/91818cd1-557a-445e-8c4f-3bca9a8c9ef0_name\",\"buildingelementClass\":\"https://pi.pauwel.be/voc/buildingelement#BuildingElement\"},{\"name\":\"http://example.org/a4620e3b-b6d2-474d-8850-abba495fd88c_name\",\"buildingelementClass\":\"https://pi.pauwel.be/voc/buildingelement#BuildingElement\"},{\"name\":\"http://example.org/c5ff9935-155a-426f-a248-2027f6d4e28b_name\",\"buildingelementClass\":\"https://pi.pauwel.be/voc/buildingelement#BuildingElement\"}]}}\n"
     ]
    }
   ],
   "source": [
    "res = element.list_elements()\n",
    "print(res)"
   ]
  },
  {
   "cell_type": "code",
   "execution_count": null,
   "metadata": {},
   "outputs": [],
   "source": []
  },
  {
   "cell_type": "code",
   "execution_count": null,
   "metadata": {},
   "outputs": [],
   "source": []
  }
 ],
 "metadata": {
  "kernelspec": {
   "display_name": "Python 3",
   "language": "python",
   "name": "python3"
  },
  "language_info": {
   "codemirror_mode": {
    "name": "ipython",
    "version": 3
   },
   "file_extension": ".py",
   "mimetype": "text/x-python",
   "name": "python",
   "nbconvert_exporter": "python",
   "pygments_lexer": "ipython3",
   "version": "3.9.6 (default, Sep 13 2022, 22:03:16) \n[Clang 14.0.0 (clang-1400.0.29.102)]"
  },
  "orig_nbformat": 4,
  "vscode": {
   "interpreter": {
    "hash": "31f2aee4e71d21fbe5cf8b01ff0e069b9275f58929596ceb00d14d90e3e16cd6"
   }
  }
 },
 "nbformat": 4,
 "nbformat_minor": 2
}
