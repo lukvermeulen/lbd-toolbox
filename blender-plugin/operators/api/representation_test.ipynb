{
 "cells": [
  {
   "cell_type": "code",
   "execution_count": 27,
   "metadata": {},
   "outputs": [
    {
     "ename": "ImportError",
     "evalue": "attempted relative import with no known parent package",
     "output_type": "error",
     "traceback": [
      "\u001b[0;31m---------------------------------------------------------------------------\u001b[0m",
      "\u001b[0;31mImportError\u001b[0m                               Traceback (most recent call last)",
      "Cell \u001b[0;32mIn[27], line 4\u001b[0m\n\u001b[1;32m      1\u001b[0m \u001b[39mimport\u001b[39;00m \u001b[39mrepresentation\u001b[39;00m\n\u001b[1;32m      2\u001b[0m \u001b[39mimport\u001b[39;00m \u001b[39mimportlib\u001b[39;00m\n\u001b[0;32m----> 4\u001b[0m importlib\u001b[39m.\u001b[39;49mreload(representation)\n",
      "File \u001b[0;32m/Applications/Xcode.app/Contents/Developer/Library/Frameworks/Python3.framework/Versions/3.9/lib/python3.9/importlib/__init__.py:169\u001b[0m, in \u001b[0;36mreload\u001b[0;34m(module)\u001b[0m\n\u001b[1;32m    167\u001b[0m \u001b[39mif\u001b[39;00m spec \u001b[39mis\u001b[39;00m \u001b[39mNone\u001b[39;00m:\n\u001b[1;32m    168\u001b[0m     \u001b[39mraise\u001b[39;00m \u001b[39mModuleNotFoundError\u001b[39;00m(\u001b[39mf\u001b[39m\u001b[39m\"\u001b[39m\u001b[39mspec not found for the module \u001b[39m\u001b[39m{\u001b[39;00mname\u001b[39m!r}\u001b[39;00m\u001b[39m\"\u001b[39m, name\u001b[39m=\u001b[39mname)\n\u001b[0;32m--> 169\u001b[0m _bootstrap\u001b[39m.\u001b[39;49m_exec(spec, module)\n\u001b[1;32m    170\u001b[0m \u001b[39m# The module may have replaced itself in sys.modules!\u001b[39;00m\n\u001b[1;32m    171\u001b[0m \u001b[39mreturn\u001b[39;00m sys\u001b[39m.\u001b[39mmodules[name]\n",
      "File \u001b[0;32m<frozen importlib._bootstrap>:613\u001b[0m, in \u001b[0;36m_exec\u001b[0;34m(spec, module)\u001b[0m\n",
      "File \u001b[0;32m<frozen importlib._bootstrap_external>:850\u001b[0m, in \u001b[0;36mexec_module\u001b[0;34m(self, module)\u001b[0m\n",
      "File \u001b[0;32m<frozen importlib._bootstrap>:228\u001b[0m, in \u001b[0;36m_call_with_frames_removed\u001b[0;34m(f, *args, **kwds)\u001b[0m\n",
      "File \u001b[0;32m~/Documents/01_Repositories/blender-ld-bim-box/src/operators/api/representation.py:2\u001b[0m\n\u001b[1;32m      1\u001b[0m \u001b[39mimport\u001b[39;00m \u001b[39mrequests\u001b[39;00m\n\u001b[0;32m----> 2\u001b[0m \u001b[39mfrom\u001b[39;00m \u001b[39m.\u001b[39;00m \u001b[39mimport\u001b[39;00m config\n\u001b[1;32m      4\u001b[0m \u001b[39m# meshes\u001b[39;00m\n\u001b[1;32m      7\u001b[0m \u001b[39mdef\u001b[39;00m \u001b[39mlist_meshes\u001b[39m():\n",
      "\u001b[0;31mImportError\u001b[0m: attempted relative import with no known parent package"
     ]
    }
   ],
   "source": [
    "import representation\n",
    "import importlib\n",
    "\n",
    "importlib.reload(representation)"
   ]
  },
  {
   "cell_type": "code",
   "execution_count": null,
   "metadata": {},
   "outputs": [
    {
     "name": "stdout",
     "output_type": "stream",
     "text": [
      "[{\"result\":{}}]\n",
      "{\"result\":{\"data\":[{\"name\":\"http://example.org/a5bbb117-9bf2-4e76-89de-ff65b2ba5ace_name\",\"date\":\"2023-02-09T21:11:05.8190000270606336Z\",\"fileUrl\":\"http://some.file.url\"}]}}\n"
     ]
    }
   ],
   "source": [
    "# add a mesh\n",
    "\n",
    "res = representation.add_mesh(\"name\", \"http://some.file.url\")\n",
    "print(res)\n",
    "\n",
    "# list meshes\n",
    "\n",
    "res = representation.list_meshes()\n",
    "print(res)"
   ]
  },
  {
   "cell_type": "code",
   "execution_count": null,
   "metadata": {},
   "outputs": [
    {
     "name": "stdout",
     "output_type": "stream",
     "text": [
      "[{\"result\":{}}]\n",
      "{\"result\":{\"data\":[{\"name\":\"http://example.org/de33660d-96f1-4f70-84d6-c11ffb5e8526_name\",\"date\":\"2023-02-09T21:11:05.847999921121132544Z\",\"fileUrl\":\"http://some.file.url\"},{\"name\":\"http://example.org/a5bbb117-9bf2-4e76-89de-ff65b2ba5ace_name\",\"date\":\"2023-02-09T21:11:05.8190000270606336Z\",\"fileUrl\":\"http://some.file.url\"}]}}\n"
     ]
    }
   ],
   "source": [
    "# add a brep\n",
    "\n",
    "res = representation.add_brep(\"name\", \"http://some.file.url\")\n",
    "print(res)\n",
    "\n",
    "# list breps\n",
    "\n",
    "res = representation.list_breps()\n",
    "print(res)"
   ]
  },
  {
   "cell_type": "markdown",
   "metadata": {},
   "source": []
  },
  {
   "cell_type": "code",
   "execution_count": null,
   "metadata": {},
   "outputs": [
    {
     "data": {
      "text/plain": [
       "'[{\"result\":{}}]'"
      ]
     },
     "execution_count": 26,
     "metadata": {},
     "output_type": "execute_result"
    }
   ],
   "source": [
    "# make representedBy link\n",
    "\n",
    "element_uri = \"http://example.org/91818cd1-557a-445e-8c4f-3bca9a8c9ef0_name\"\n",
    "representation_uri = \"http://example.org/e6930eb5-70e2-419b-ac49-3fe75697a903_name\"\n",
    "\n",
    "res = representation.represented_by(element_uri, representation_uri, \"active\")\n",
    "res"
   ]
  },
  {
   "cell_type": "code",
   "execution_count": null,
   "metadata": {},
   "outputs": [],
   "source": []
  },
  {
   "cell_type": "code",
   "execution_count": null,
   "metadata": {},
   "outputs": [],
   "source": []
  }
 ],
 "metadata": {
  "kernelspec": {
   "display_name": "Python 3",
   "language": "python",
   "name": "python3"
  },
  "language_info": {
   "codemirror_mode": {
    "name": "ipython",
    "version": 3
   },
   "file_extension": ".py",
   "mimetype": "text/x-python",
   "name": "python",
   "nbconvert_exporter": "python",
   "pygments_lexer": "ipython3",
   "version": "3.9.6"
  },
  "orig_nbformat": 4,
  "vscode": {
   "interpreter": {
    "hash": "31f2aee4e71d21fbe5cf8b01ff0e069b9275f58929596ceb00d14d90e3e16cd6"
   }
  }
 },
 "nbformat": 4,
 "nbformat_minor": 2
}
